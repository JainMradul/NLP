{
  "nbformat": 4,
  "nbformat_minor": 0,
  "metadata": {
    "colab": {
      "provenance": []
    },
    "kernelspec": {
      "name": "python3",
      "display_name": "Python 3"
    },
    "language_info": {
      "name": "python"
    }
  },
  "cells": [
    {
      "cell_type": "code",
      "execution_count": 1,
      "metadata": {
        "id": "sQp5Ii68nccJ"
      },
      "outputs": [],
      "source": [
        "from sklearn.feature_extraction.text import CountVectorizer, TfidfVectorizer\n",
        "\n",
        "# Sample documents\n",
        "documents = [\n",
        "    \"The sky is blue.\",\n",
        "    \"The sun is bright.\",\n",
        "    \"The sun in the sky is bright.\",\n",
        "    \"We can see the shining sun, the bright sun.\"\n",
        "]"
      ]
    },
    {
      "cell_type": "code",
      "source": [
        "documents"
      ],
      "metadata": {
        "colab": {
          "base_uri": "https://localhost:8080/"
        },
        "id": "7QtVbKfRobCw",
        "outputId": "8c4bfed1-f959-4a7e-8427-6a5a1edecace"
      },
      "execution_count": 2,
      "outputs": [
        {
          "output_type": "execute_result",
          "data": {
            "text/plain": [
              "['The sky is blue.',\n",
              " 'The sun is bright.',\n",
              " 'The sun in the sky is bright.',\n",
              " 'We can see the shining sun, the bright sun.']"
            ]
          },
          "metadata": {},
          "execution_count": 2
        }
      ]
    },
    {
      "cell_type": "code",
      "source": [
        "# Function to generate Bag of Words (BoW) representation\n",
        "def bag_of_words(documents):\n",
        "    # Create an instance of CountVectorizer\n",
        "    # This converts a collection of text documents to a matrix of token counts\n",
        "    vectorizer = CountVectorizer()\n",
        "\n",
        "    # Fit the model and transform the documents into a matrix\n",
        "    # The fit_transform method learns the vocabulary and returns a document-term matrix\n",
        "    X = vectorizer.fit_transform(documents)\n",
        "\n",
        "    # Get the feature names (words) corresponding to each column in the matrix\n",
        "    feature_names = vectorizer.get_feature_names_out()\n",
        "\n",
        "    # Print the matrix in array form (each row corresponds to a document and each column corresponds to a word)\n",
        "    print(\"Bag of Words Representation:\\n\", X.toarray())\n",
        "\n",
        "    # Print the feature names (the words in the vocabulary)\n",
        "    print(\"Feature Names:\\n\", feature_names)\n",
        "\n",
        "    # Return the document-term matrix and the feature names\n",
        "    return X, feature_names\n"
      ],
      "metadata": {
        "id": "eQQO8s5_nsuu"
      },
      "execution_count": 3,
      "outputs": []
    },
    {
      "cell_type": "code",
      "source": [
        "# Run the Bag of Words function to get the matrix and feature names\n",
        "bow_matrix, bow_feature_names = bag_of_words(documents)"
      ],
      "metadata": {
        "colab": {
          "base_uri": "https://localhost:8080/"
        },
        "id": "UxJLIrfgnwwv",
        "outputId": "1e91a0e3-e427-4a41-ecdc-73c91d9b7413"
      },
      "execution_count": 4,
      "outputs": [
        {
          "output_type": "stream",
          "name": "stdout",
          "text": [
            "Bag of Words Representation:\n",
            " [[1 0 0 0 1 0 0 1 0 1 0]\n",
            " [0 1 0 0 1 0 0 0 1 1 0]\n",
            " [0 1 0 1 1 0 0 1 1 2 0]\n",
            " [0 1 1 0 0 1 1 0 2 2 1]]\n",
            "Feature Names:\n",
            " ['blue' 'bright' 'can' 'in' 'is' 'see' 'shining' 'sky' 'sun' 'the' 'we']\n"
          ]
        }
      ]
    },
    {
      "cell_type": "code",
      "source": [
        "# Function to generate TF-IDF representation\n",
        "def tf_idf(documents):\n",
        "    # Create an instance of TfidfVectorizer\n",
        "    # This converts a collection of text documents to a matrix of TF-IDF features\n",
        "    vectorizer = TfidfVectorizer()\n",
        "\n",
        "    # Fit the model and transform the documents into a matrix\n",
        "    # The fit_transform method learns the vocabulary and returns a term-document matrix with TF-IDF values\n",
        "    X = vectorizer.fit_transform(documents)\n",
        "\n",
        "    # Get the feature names (words) corresponding to each column in the matrix\n",
        "    feature_names = vectorizer.get_feature_names_out()\n",
        "\n",
        "    # Print the matrix in array form (each row corresponds to a document and each column corresponds to a word)\n",
        "    print(\"TF-IDF Representation:\\n\", X.toarray())\n",
        "\n",
        "    # Print the feature names (the words in the vocabulary)\n",
        "    print(\"Feature Names:\\n\", feature_names)\n",
        "\n",
        "    # Return the term-document matrix and the feature names\n",
        "    return X, feature_names"
      ],
      "metadata": {
        "id": "J3u-kOzWoW2g"
      },
      "execution_count": 5,
      "outputs": []
    },
    {
      "cell_type": "code",
      "source": [
        "# Run the TF-IDF function to get the matrix and feature names\n",
        "tfidf_matrix, tfidf_feature_names = tf_idf(documents)"
      ],
      "metadata": {
        "colab": {
          "base_uri": "https://localhost:8080/"
        },
        "id": "tABW6EhOnymu",
        "outputId": "81238c1a-3ef1-4905-9e97-21e00a59f1f8"
      },
      "execution_count": 6,
      "outputs": [
        {
          "output_type": "stream",
          "name": "stdout",
          "text": [
            "TF-IDF Representation:\n",
            " [[0.65919112 0.         0.         0.         0.42075315 0.\n",
            "  0.         0.51971385 0.         0.34399327 0.        ]\n",
            " [0.         0.52210862 0.         0.         0.52210862 0.\n",
            "  0.         0.         0.52210862 0.42685801 0.        ]\n",
            " [0.         0.3218464  0.         0.50423458 0.3218464  0.\n",
            "  0.         0.39754433 0.3218464  0.52626104 0.        ]\n",
            " [0.         0.23910199 0.37459947 0.         0.         0.37459947\n",
            "  0.37459947 0.         0.47820398 0.39096309 0.37459947]]\n",
            "Feature Names:\n",
            " ['blue' 'bright' 'can' 'in' 'is' 'see' 'shining' 'sky' 'sun' 'the' 'we']\n"
          ]
        }
      ]
    },
    {
      "cell_type": "code",
      "source": [],
      "metadata": {
        "id": "hXMQmBQ1n_qV"
      },
      "execution_count": null,
      "outputs": []
    }
  ]
}